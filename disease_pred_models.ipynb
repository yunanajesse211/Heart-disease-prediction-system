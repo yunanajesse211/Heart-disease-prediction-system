{
 "cells": [
  {
   "cell_type": "markdown",
   "id": "ca939004",
   "metadata": {},
   "source": [
    "# importing Neccesary Libraries "
   ]
  },
  {
   "cell_type": "code",
   "execution_count": 1,
   "id": "debccdfb",
   "metadata": {},
   "outputs": [],
   "source": [
    "import numpy as np\n",
    "import pandas as pd\n",
    "import seaborn as sns\n",
    "import matplotlib.pyplot as plt\n",
    "from sklearn.linear_model import LogisticRegression,SGDClassifier\n",
    "from sklearn.model_selection import train_test_split,cross_val_score,StratifiedKFold,KFold,GridSearchCV\n",
    "from sklearn.metrics import classification_report, confusion_matrix, accuracy_score,roc_auc_score,roc_curve\n",
    "from sklearn.naive_bayes import GaussianNB\n",
    "from sklearn.ensemble import RandomForestClassifier\n",
    "from sklearn.neighbors import KNeighborsClassifier\n",
    "from sklearn.svm import SVC\n",
    "from sklearn.tree import DecisionTreeClassifier\n",
    "from sklearn.neural_network import MLPClassifier\n",
    "from sklearn.preprocessing import StandardScaler\n",
    "import warnings\n",
    "warnings.filterwarnings(\"ignore\")"
   ]
  },
  {
   "cell_type": "markdown",
   "id": "355c8d40",
   "metadata": {},
   "source": [
    "# Loading the dataset"
   ]
  },
  {
   "cell_type": "code",
   "execution_count": 2,
   "id": "3292c851",
   "metadata": {},
   "outputs": [],
   "source": [
    "data=pd.read_csv('C:/Users/pcd/Desktop/datasets/cleveland.csv')\n",
    "data2=data"
   ]
  },
  {
   "cell_type": "code",
   "execution_count": null,
   "id": "d07cba36",
   "metadata": {},
   "outputs": [],
   "source": []
  },
  {
   "cell_type": "markdown",
   "id": "bcda0bc8",
   "metadata": {},
   "source": [
    "# Data Analysis"
   ]
  },
  {
   "cell_type": "code",
   "execution_count": 96,
   "id": "f656d47f",
   "metadata": {},
   "outputs": [
    {
     "data": {
      "text/html": [
       "<div>\n",
       "<style scoped>\n",
       "    .dataframe tbody tr th:only-of-type {\n",
       "        vertical-align: middle;\n",
       "    }\n",
       "\n",
       "    .dataframe tbody tr th {\n",
       "        vertical-align: top;\n",
       "    }\n",
       "\n",
       "    .dataframe thead th {\n",
       "        text-align: right;\n",
       "    }\n",
       "</style>\n",
       "<table border=\"1\" class=\"dataframe\">\n",
       "  <thead>\n",
       "    <tr style=\"text-align: right;\">\n",
       "      <th></th>\n",
       "      <th>age</th>\n",
       "      <th>sex</th>\n",
       "      <th>cp</th>\n",
       "      <th>tresbps</th>\n",
       "      <th>chol</th>\n",
       "      <th>fbs</th>\n",
       "      <th>restecg</th>\n",
       "      <th>thalach</th>\n",
       "      <th>exang</th>\n",
       "      <th>oldpeak</th>\n",
       "      <th>slope</th>\n",
       "      <th>ca</th>\n",
       "      <th>thal</th>\n",
       "      <th>output</th>\n",
       "    </tr>\n",
       "  </thead>\n",
       "  <tbody>\n",
       "    <tr>\n",
       "      <th>0</th>\n",
       "      <td>63</td>\n",
       "      <td>1</td>\n",
       "      <td>3</td>\n",
       "      <td>145</td>\n",
       "      <td>233</td>\n",
       "      <td>1</td>\n",
       "      <td>0</td>\n",
       "      <td>150</td>\n",
       "      <td>0</td>\n",
       "      <td>2.3</td>\n",
       "      <td>0</td>\n",
       "      <td>0</td>\n",
       "      <td>1</td>\n",
       "      <td>1</td>\n",
       "    </tr>\n",
       "    <tr>\n",
       "      <th>1</th>\n",
       "      <td>37</td>\n",
       "      <td>1</td>\n",
       "      <td>2</td>\n",
       "      <td>130</td>\n",
       "      <td>250</td>\n",
       "      <td>0</td>\n",
       "      <td>1</td>\n",
       "      <td>187</td>\n",
       "      <td>0</td>\n",
       "      <td>3.5</td>\n",
       "      <td>0</td>\n",
       "      <td>0</td>\n",
       "      <td>2</td>\n",
       "      <td>1</td>\n",
       "    </tr>\n",
       "    <tr>\n",
       "      <th>2</th>\n",
       "      <td>41</td>\n",
       "      <td>0</td>\n",
       "      <td>1</td>\n",
       "      <td>130</td>\n",
       "      <td>204</td>\n",
       "      <td>0</td>\n",
       "      <td>0</td>\n",
       "      <td>172</td>\n",
       "      <td>0</td>\n",
       "      <td>1.4</td>\n",
       "      <td>2</td>\n",
       "      <td>0</td>\n",
       "      <td>2</td>\n",
       "      <td>1</td>\n",
       "    </tr>\n",
       "    <tr>\n",
       "      <th>3</th>\n",
       "      <td>56</td>\n",
       "      <td>1</td>\n",
       "      <td>1</td>\n",
       "      <td>120</td>\n",
       "      <td>236</td>\n",
       "      <td>0</td>\n",
       "      <td>1</td>\n",
       "      <td>178</td>\n",
       "      <td>0</td>\n",
       "      <td>0.8</td>\n",
       "      <td>2</td>\n",
       "      <td>0</td>\n",
       "      <td>2</td>\n",
       "      <td>1</td>\n",
       "    </tr>\n",
       "    <tr>\n",
       "      <th>4</th>\n",
       "      <td>57</td>\n",
       "      <td>0</td>\n",
       "      <td>0</td>\n",
       "      <td>120</td>\n",
       "      <td>354</td>\n",
       "      <td>0</td>\n",
       "      <td>1</td>\n",
       "      <td>163</td>\n",
       "      <td>1</td>\n",
       "      <td>0.6</td>\n",
       "      <td>2</td>\n",
       "      <td>0</td>\n",
       "      <td>2</td>\n",
       "      <td>1</td>\n",
       "    </tr>\n",
       "  </tbody>\n",
       "</table>\n",
       "</div>"
      ],
      "text/plain": [
       "   age  sex  cp  tresbps  chol  fbs  restecg  thalach  exang  oldpeak  slope  \\\n",
       "0   63    1   3      145   233    1        0      150      0      2.3      0   \n",
       "1   37    1   2      130   250    0        1      187      0      3.5      0   \n",
       "2   41    0   1      130   204    0        0      172      0      1.4      2   \n",
       "3   56    1   1      120   236    0        1      178      0      0.8      2   \n",
       "4   57    0   0      120   354    0        1      163      1      0.6      2   \n",
       "\n",
       "   ca  thal  output  \n",
       "0   0     1       1  \n",
       "1   0     2       1  \n",
       "2   0     2       1  \n",
       "3   0     2       1  \n",
       "4   0     2       1  "
      ]
     },
     "execution_count": 96,
     "metadata": {},
     "output_type": "execute_result"
    }
   ],
   "source": [
    "data.head(5)\n",
    "\n"
   ]
  },
  {
   "cell_type": "code",
   "execution_count": 4,
   "id": "7f274b4f",
   "metadata": {},
   "outputs": [
    {
     "name": "stdout",
     "output_type": "stream",
     "text": [
      "<class 'pandas.core.frame.DataFrame'>\n",
      "RangeIndex: 303 entries, 0 to 302\n",
      "Data columns (total 14 columns):\n",
      " #   Column   Non-Null Count  Dtype  \n",
      "---  ------   --------------  -----  \n",
      " 0   age      303 non-null    int64  \n",
      " 1   sex      303 non-null    int64  \n",
      " 2   cp       303 non-null    int64  \n",
      " 3   tresbps  303 non-null    int64  \n",
      " 4   chol     303 non-null    int64  \n",
      " 5   fbs      303 non-null    int64  \n",
      " 6   restecg  303 non-null    int64  \n",
      " 7   thalach  303 non-null    int64  \n",
      " 8   exang    303 non-null    int64  \n",
      " 9   oldpeak  303 non-null    float64\n",
      " 10  slope    303 non-null    int64  \n",
      " 11  ca       303 non-null    int64  \n",
      " 12  thal     303 non-null    int64  \n",
      " 13  output   303 non-null    int64  \n",
      "dtypes: float64(1), int64(13)\n",
      "memory usage: 33.2 KB\n"
     ]
    }
   ],
   "source": [
    "data.info()\n"
   ]
  },
  {
   "cell_type": "code",
   "execution_count": 5,
   "id": "4dba8028",
   "metadata": {},
   "outputs": [
    {
     "data": {
      "text/html": [
       "<div>\n",
       "<style scoped>\n",
       "    .dataframe tbody tr th:only-of-type {\n",
       "        vertical-align: middle;\n",
       "    }\n",
       "\n",
       "    .dataframe tbody tr th {\n",
       "        vertical-align: top;\n",
       "    }\n",
       "\n",
       "    .dataframe thead th {\n",
       "        text-align: right;\n",
       "    }\n",
       "</style>\n",
       "<table border=\"1\" class=\"dataframe\">\n",
       "  <thead>\n",
       "    <tr style=\"text-align: right;\">\n",
       "      <th></th>\n",
       "      <th>age</th>\n",
       "      <th>sex</th>\n",
       "      <th>cp</th>\n",
       "      <th>tresbps</th>\n",
       "      <th>chol</th>\n",
       "      <th>fbs</th>\n",
       "      <th>restecg</th>\n",
       "      <th>thalach</th>\n",
       "      <th>exang</th>\n",
       "      <th>oldpeak</th>\n",
       "      <th>slope</th>\n",
       "      <th>ca</th>\n",
       "      <th>thal</th>\n",
       "      <th>output</th>\n",
       "    </tr>\n",
       "  </thead>\n",
       "  <tbody>\n",
       "    <tr>\n",
       "      <th>age</th>\n",
       "      <td>1.000000</td>\n",
       "      <td>-0.098447</td>\n",
       "      <td>-0.068653</td>\n",
       "      <td>0.279351</td>\n",
       "      <td>0.213678</td>\n",
       "      <td>0.121308</td>\n",
       "      <td>-0.116211</td>\n",
       "      <td>-0.398522</td>\n",
       "      <td>0.096801</td>\n",
       "      <td>0.210013</td>\n",
       "      <td>-0.168814</td>\n",
       "      <td>0.306146</td>\n",
       "      <td>0.068001</td>\n",
       "      <td>-0.225439</td>\n",
       "    </tr>\n",
       "    <tr>\n",
       "      <th>sex</th>\n",
       "      <td>-0.098447</td>\n",
       "      <td>1.000000</td>\n",
       "      <td>-0.049353</td>\n",
       "      <td>-0.056769</td>\n",
       "      <td>-0.197912</td>\n",
       "      <td>0.045032</td>\n",
       "      <td>-0.058196</td>\n",
       "      <td>-0.044020</td>\n",
       "      <td>0.141664</td>\n",
       "      <td>0.096093</td>\n",
       "      <td>-0.030711</td>\n",
       "      <td>0.111921</td>\n",
       "      <td>0.210041</td>\n",
       "      <td>-0.280937</td>\n",
       "    </tr>\n",
       "    <tr>\n",
       "      <th>cp</th>\n",
       "      <td>-0.068653</td>\n",
       "      <td>-0.049353</td>\n",
       "      <td>1.000000</td>\n",
       "      <td>0.047608</td>\n",
       "      <td>-0.076904</td>\n",
       "      <td>0.094444</td>\n",
       "      <td>0.044421</td>\n",
       "      <td>0.295762</td>\n",
       "      <td>-0.394280</td>\n",
       "      <td>-0.149230</td>\n",
       "      <td>0.119717</td>\n",
       "      <td>-0.202568</td>\n",
       "      <td>-0.161736</td>\n",
       "      <td>0.433798</td>\n",
       "    </tr>\n",
       "    <tr>\n",
       "      <th>tresbps</th>\n",
       "      <td>0.279351</td>\n",
       "      <td>-0.056769</td>\n",
       "      <td>0.047608</td>\n",
       "      <td>1.000000</td>\n",
       "      <td>0.123174</td>\n",
       "      <td>0.177531</td>\n",
       "      <td>-0.114103</td>\n",
       "      <td>-0.046698</td>\n",
       "      <td>0.067616</td>\n",
       "      <td>0.193216</td>\n",
       "      <td>-0.121475</td>\n",
       "      <td>0.102163</td>\n",
       "      <td>0.062210</td>\n",
       "      <td>-0.144931</td>\n",
       "    </tr>\n",
       "    <tr>\n",
       "      <th>chol</th>\n",
       "      <td>0.213678</td>\n",
       "      <td>-0.197912</td>\n",
       "      <td>-0.076904</td>\n",
       "      <td>0.123174</td>\n",
       "      <td>1.000000</td>\n",
       "      <td>0.013294</td>\n",
       "      <td>-0.151040</td>\n",
       "      <td>-0.009940</td>\n",
       "      <td>0.067023</td>\n",
       "      <td>0.053952</td>\n",
       "      <td>-0.004038</td>\n",
       "      <td>0.090746</td>\n",
       "      <td>0.098803</td>\n",
       "      <td>-0.085239</td>\n",
       "    </tr>\n",
       "    <tr>\n",
       "      <th>fbs</th>\n",
       "      <td>0.121308</td>\n",
       "      <td>0.045032</td>\n",
       "      <td>0.094444</td>\n",
       "      <td>0.177531</td>\n",
       "      <td>0.013294</td>\n",
       "      <td>1.000000</td>\n",
       "      <td>-0.084189</td>\n",
       "      <td>-0.008567</td>\n",
       "      <td>0.025665</td>\n",
       "      <td>0.005747</td>\n",
       "      <td>-0.059894</td>\n",
       "      <td>0.151028</td>\n",
       "      <td>-0.032019</td>\n",
       "      <td>-0.028046</td>\n",
       "    </tr>\n",
       "    <tr>\n",
       "      <th>restecg</th>\n",
       "      <td>-0.116211</td>\n",
       "      <td>-0.058196</td>\n",
       "      <td>0.044421</td>\n",
       "      <td>-0.114103</td>\n",
       "      <td>-0.151040</td>\n",
       "      <td>-0.084189</td>\n",
       "      <td>1.000000</td>\n",
       "      <td>0.044123</td>\n",
       "      <td>-0.070733</td>\n",
       "      <td>-0.058770</td>\n",
       "      <td>0.093045</td>\n",
       "      <td>-0.090340</td>\n",
       "      <td>-0.011981</td>\n",
       "      <td>0.137230</td>\n",
       "    </tr>\n",
       "    <tr>\n",
       "      <th>thalach</th>\n",
       "      <td>-0.398522</td>\n",
       "      <td>-0.044020</td>\n",
       "      <td>0.295762</td>\n",
       "      <td>-0.046698</td>\n",
       "      <td>-0.009940</td>\n",
       "      <td>-0.008567</td>\n",
       "      <td>0.044123</td>\n",
       "      <td>1.000000</td>\n",
       "      <td>-0.378812</td>\n",
       "      <td>-0.344187</td>\n",
       "      <td>0.386784</td>\n",
       "      <td>-0.234810</td>\n",
       "      <td>-0.096439</td>\n",
       "      <td>0.421741</td>\n",
       "    </tr>\n",
       "    <tr>\n",
       "      <th>exang</th>\n",
       "      <td>0.096801</td>\n",
       "      <td>0.141664</td>\n",
       "      <td>-0.394280</td>\n",
       "      <td>0.067616</td>\n",
       "      <td>0.067023</td>\n",
       "      <td>0.025665</td>\n",
       "      <td>-0.070733</td>\n",
       "      <td>-0.378812</td>\n",
       "      <td>1.000000</td>\n",
       "      <td>0.288223</td>\n",
       "      <td>-0.257748</td>\n",
       "      <td>0.132526</td>\n",
       "      <td>0.206754</td>\n",
       "      <td>-0.436757</td>\n",
       "    </tr>\n",
       "    <tr>\n",
       "      <th>oldpeak</th>\n",
       "      <td>0.210013</td>\n",
       "      <td>0.096093</td>\n",
       "      <td>-0.149230</td>\n",
       "      <td>0.193216</td>\n",
       "      <td>0.053952</td>\n",
       "      <td>0.005747</td>\n",
       "      <td>-0.058770</td>\n",
       "      <td>-0.344187</td>\n",
       "      <td>0.288223</td>\n",
       "      <td>1.000000</td>\n",
       "      <td>-0.577537</td>\n",
       "      <td>0.246335</td>\n",
       "      <td>0.210244</td>\n",
       "      <td>-0.430696</td>\n",
       "    </tr>\n",
       "    <tr>\n",
       "      <th>slope</th>\n",
       "      <td>-0.168814</td>\n",
       "      <td>-0.030711</td>\n",
       "      <td>0.119717</td>\n",
       "      <td>-0.121475</td>\n",
       "      <td>-0.004038</td>\n",
       "      <td>-0.059894</td>\n",
       "      <td>0.093045</td>\n",
       "      <td>0.386784</td>\n",
       "      <td>-0.257748</td>\n",
       "      <td>-0.577537</td>\n",
       "      <td>1.000000</td>\n",
       "      <td>-0.094628</td>\n",
       "      <td>-0.104764</td>\n",
       "      <td>0.345877</td>\n",
       "    </tr>\n",
       "    <tr>\n",
       "      <th>ca</th>\n",
       "      <td>0.306146</td>\n",
       "      <td>0.111921</td>\n",
       "      <td>-0.202568</td>\n",
       "      <td>0.102163</td>\n",
       "      <td>0.090746</td>\n",
       "      <td>0.151028</td>\n",
       "      <td>-0.090340</td>\n",
       "      <td>-0.234810</td>\n",
       "      <td>0.132526</td>\n",
       "      <td>0.246335</td>\n",
       "      <td>-0.094628</td>\n",
       "      <td>1.000000</td>\n",
       "      <td>0.161572</td>\n",
       "      <td>-0.424195</td>\n",
       "    </tr>\n",
       "    <tr>\n",
       "      <th>thal</th>\n",
       "      <td>0.068001</td>\n",
       "      <td>0.210041</td>\n",
       "      <td>-0.161736</td>\n",
       "      <td>0.062210</td>\n",
       "      <td>0.098803</td>\n",
       "      <td>-0.032019</td>\n",
       "      <td>-0.011981</td>\n",
       "      <td>-0.096439</td>\n",
       "      <td>0.206754</td>\n",
       "      <td>0.210244</td>\n",
       "      <td>-0.104764</td>\n",
       "      <td>0.161572</td>\n",
       "      <td>1.000000</td>\n",
       "      <td>-0.344029</td>\n",
       "    </tr>\n",
       "    <tr>\n",
       "      <th>output</th>\n",
       "      <td>-0.225439</td>\n",
       "      <td>-0.280937</td>\n",
       "      <td>0.433798</td>\n",
       "      <td>-0.144931</td>\n",
       "      <td>-0.085239</td>\n",
       "      <td>-0.028046</td>\n",
       "      <td>0.137230</td>\n",
       "      <td>0.421741</td>\n",
       "      <td>-0.436757</td>\n",
       "      <td>-0.430696</td>\n",
       "      <td>0.345877</td>\n",
       "      <td>-0.424195</td>\n",
       "      <td>-0.344029</td>\n",
       "      <td>1.000000</td>\n",
       "    </tr>\n",
       "  </tbody>\n",
       "</table>\n",
       "</div>"
      ],
      "text/plain": [
       "              age       sex        cp   tresbps      chol       fbs   restecg  \\\n",
       "age      1.000000 -0.098447 -0.068653  0.279351  0.213678  0.121308 -0.116211   \n",
       "sex     -0.098447  1.000000 -0.049353 -0.056769 -0.197912  0.045032 -0.058196   \n",
       "cp      -0.068653 -0.049353  1.000000  0.047608 -0.076904  0.094444  0.044421   \n",
       "tresbps  0.279351 -0.056769  0.047608  1.000000  0.123174  0.177531 -0.114103   \n",
       "chol     0.213678 -0.197912 -0.076904  0.123174  1.000000  0.013294 -0.151040   \n",
       "fbs      0.121308  0.045032  0.094444  0.177531  0.013294  1.000000 -0.084189   \n",
       "restecg -0.116211 -0.058196  0.044421 -0.114103 -0.151040 -0.084189  1.000000   \n",
       "thalach -0.398522 -0.044020  0.295762 -0.046698 -0.009940 -0.008567  0.044123   \n",
       "exang    0.096801  0.141664 -0.394280  0.067616  0.067023  0.025665 -0.070733   \n",
       "oldpeak  0.210013  0.096093 -0.149230  0.193216  0.053952  0.005747 -0.058770   \n",
       "slope   -0.168814 -0.030711  0.119717 -0.121475 -0.004038 -0.059894  0.093045   \n",
       "ca       0.306146  0.111921 -0.202568  0.102163  0.090746  0.151028 -0.090340   \n",
       "thal     0.068001  0.210041 -0.161736  0.062210  0.098803 -0.032019 -0.011981   \n",
       "output  -0.225439 -0.280937  0.433798 -0.144931 -0.085239 -0.028046  0.137230   \n",
       "\n",
       "          thalach     exang   oldpeak     slope        ca      thal    output  \n",
       "age     -0.398522  0.096801  0.210013 -0.168814  0.306146  0.068001 -0.225439  \n",
       "sex     -0.044020  0.141664  0.096093 -0.030711  0.111921  0.210041 -0.280937  \n",
       "cp       0.295762 -0.394280 -0.149230  0.119717 -0.202568 -0.161736  0.433798  \n",
       "tresbps -0.046698  0.067616  0.193216 -0.121475  0.102163  0.062210 -0.144931  \n",
       "chol    -0.009940  0.067023  0.053952 -0.004038  0.090746  0.098803 -0.085239  \n",
       "fbs     -0.008567  0.025665  0.005747 -0.059894  0.151028 -0.032019 -0.028046  \n",
       "restecg  0.044123 -0.070733 -0.058770  0.093045 -0.090340 -0.011981  0.137230  \n",
       "thalach  1.000000 -0.378812 -0.344187  0.386784 -0.234810 -0.096439  0.421741  \n",
       "exang   -0.378812  1.000000  0.288223 -0.257748  0.132526  0.206754 -0.436757  \n",
       "oldpeak -0.344187  0.288223  1.000000 -0.577537  0.246335  0.210244 -0.430696  \n",
       "slope    0.386784 -0.257748 -0.577537  1.000000 -0.094628 -0.104764  0.345877  \n",
       "ca      -0.234810  0.132526  0.246335 -0.094628  1.000000  0.161572 -0.424195  \n",
       "thal    -0.096439  0.206754  0.210244 -0.104764  0.161572  1.000000 -0.344029  \n",
       "output   0.421741 -0.436757 -0.430696  0.345877 -0.424195 -0.344029  1.000000  "
      ]
     },
     "execution_count": 5,
     "metadata": {},
     "output_type": "execute_result"
    }
   ],
   "source": [
    "data.corr()"
   ]
  },
  {
   "cell_type": "code",
   "execution_count": 6,
   "id": "1e103c0c",
   "metadata": {},
   "outputs": [
    {
     "data": {
      "text/html": [
       "<div>\n",
       "<style scoped>\n",
       "    .dataframe tbody tr th:only-of-type {\n",
       "        vertical-align: middle;\n",
       "    }\n",
       "\n",
       "    .dataframe tbody tr th {\n",
       "        vertical-align: top;\n",
       "    }\n",
       "\n",
       "    .dataframe thead th {\n",
       "        text-align: right;\n",
       "    }\n",
       "</style>\n",
       "<table border=\"1\" class=\"dataframe\">\n",
       "  <thead>\n",
       "    <tr style=\"text-align: right;\">\n",
       "      <th></th>\n",
       "      <th>age</th>\n",
       "      <th>sex</th>\n",
       "      <th>cp</th>\n",
       "      <th>tresbps</th>\n",
       "      <th>chol</th>\n",
       "      <th>fbs</th>\n",
       "      <th>restecg</th>\n",
       "      <th>thalach</th>\n",
       "      <th>exang</th>\n",
       "      <th>oldpeak</th>\n",
       "      <th>slope</th>\n",
       "      <th>ca</th>\n",
       "      <th>thal</th>\n",
       "      <th>output</th>\n",
       "    </tr>\n",
       "  </thead>\n",
       "  <tbody>\n",
       "    <tr>\n",
       "      <th>count</th>\n",
       "      <td>303.000000</td>\n",
       "      <td>303.000000</td>\n",
       "      <td>303.000000</td>\n",
       "      <td>303.000000</td>\n",
       "      <td>303.000000</td>\n",
       "      <td>303.000000</td>\n",
       "      <td>303.000000</td>\n",
       "      <td>303.000000</td>\n",
       "      <td>303.000000</td>\n",
       "      <td>303.000000</td>\n",
       "      <td>303.000000</td>\n",
       "      <td>303.000000</td>\n",
       "      <td>303.000000</td>\n",
       "      <td>303.000000</td>\n",
       "    </tr>\n",
       "    <tr>\n",
       "      <th>mean</th>\n",
       "      <td>54.366337</td>\n",
       "      <td>0.683168</td>\n",
       "      <td>0.966997</td>\n",
       "      <td>131.623762</td>\n",
       "      <td>246.264026</td>\n",
       "      <td>0.148515</td>\n",
       "      <td>0.528053</td>\n",
       "      <td>149.646865</td>\n",
       "      <td>0.326733</td>\n",
       "      <td>1.039604</td>\n",
       "      <td>1.399340</td>\n",
       "      <td>0.712871</td>\n",
       "      <td>2.313531</td>\n",
       "      <td>0.544554</td>\n",
       "    </tr>\n",
       "    <tr>\n",
       "      <th>std</th>\n",
       "      <td>9.082101</td>\n",
       "      <td>0.466011</td>\n",
       "      <td>1.032052</td>\n",
       "      <td>17.538143</td>\n",
       "      <td>51.830751</td>\n",
       "      <td>0.356198</td>\n",
       "      <td>0.525860</td>\n",
       "      <td>22.905161</td>\n",
       "      <td>0.469794</td>\n",
       "      <td>1.161075</td>\n",
       "      <td>0.616226</td>\n",
       "      <td>0.979965</td>\n",
       "      <td>0.612277</td>\n",
       "      <td>0.498835</td>\n",
       "    </tr>\n",
       "    <tr>\n",
       "      <th>min</th>\n",
       "      <td>29.000000</td>\n",
       "      <td>0.000000</td>\n",
       "      <td>0.000000</td>\n",
       "      <td>94.000000</td>\n",
       "      <td>126.000000</td>\n",
       "      <td>0.000000</td>\n",
       "      <td>0.000000</td>\n",
       "      <td>71.000000</td>\n",
       "      <td>0.000000</td>\n",
       "      <td>0.000000</td>\n",
       "      <td>0.000000</td>\n",
       "      <td>0.000000</td>\n",
       "      <td>0.000000</td>\n",
       "      <td>0.000000</td>\n",
       "    </tr>\n",
       "    <tr>\n",
       "      <th>25%</th>\n",
       "      <td>47.500000</td>\n",
       "      <td>0.000000</td>\n",
       "      <td>0.000000</td>\n",
       "      <td>120.000000</td>\n",
       "      <td>211.000000</td>\n",
       "      <td>0.000000</td>\n",
       "      <td>0.000000</td>\n",
       "      <td>133.500000</td>\n",
       "      <td>0.000000</td>\n",
       "      <td>0.000000</td>\n",
       "      <td>1.000000</td>\n",
       "      <td>0.000000</td>\n",
       "      <td>2.000000</td>\n",
       "      <td>0.000000</td>\n",
       "    </tr>\n",
       "    <tr>\n",
       "      <th>50%</th>\n",
       "      <td>55.000000</td>\n",
       "      <td>1.000000</td>\n",
       "      <td>1.000000</td>\n",
       "      <td>130.000000</td>\n",
       "      <td>240.000000</td>\n",
       "      <td>0.000000</td>\n",
       "      <td>1.000000</td>\n",
       "      <td>153.000000</td>\n",
       "      <td>0.000000</td>\n",
       "      <td>0.800000</td>\n",
       "      <td>1.000000</td>\n",
       "      <td>0.000000</td>\n",
       "      <td>2.000000</td>\n",
       "      <td>1.000000</td>\n",
       "    </tr>\n",
       "    <tr>\n",
       "      <th>75%</th>\n",
       "      <td>61.000000</td>\n",
       "      <td>1.000000</td>\n",
       "      <td>2.000000</td>\n",
       "      <td>140.000000</td>\n",
       "      <td>274.500000</td>\n",
       "      <td>0.000000</td>\n",
       "      <td>1.000000</td>\n",
       "      <td>166.000000</td>\n",
       "      <td>1.000000</td>\n",
       "      <td>1.600000</td>\n",
       "      <td>2.000000</td>\n",
       "      <td>1.000000</td>\n",
       "      <td>3.000000</td>\n",
       "      <td>1.000000</td>\n",
       "    </tr>\n",
       "    <tr>\n",
       "      <th>max</th>\n",
       "      <td>77.000000</td>\n",
       "      <td>1.000000</td>\n",
       "      <td>3.000000</td>\n",
       "      <td>200.000000</td>\n",
       "      <td>564.000000</td>\n",
       "      <td>1.000000</td>\n",
       "      <td>2.000000</td>\n",
       "      <td>202.000000</td>\n",
       "      <td>1.000000</td>\n",
       "      <td>6.200000</td>\n",
       "      <td>2.000000</td>\n",
       "      <td>4.000000</td>\n",
       "      <td>3.000000</td>\n",
       "      <td>1.000000</td>\n",
       "    </tr>\n",
       "  </tbody>\n",
       "</table>\n",
       "</div>"
      ],
      "text/plain": [
       "              age         sex          cp     tresbps        chol         fbs  \\\n",
       "count  303.000000  303.000000  303.000000  303.000000  303.000000  303.000000   \n",
       "mean    54.366337    0.683168    0.966997  131.623762  246.264026    0.148515   \n",
       "std      9.082101    0.466011    1.032052   17.538143   51.830751    0.356198   \n",
       "min     29.000000    0.000000    0.000000   94.000000  126.000000    0.000000   \n",
       "25%     47.500000    0.000000    0.000000  120.000000  211.000000    0.000000   \n",
       "50%     55.000000    1.000000    1.000000  130.000000  240.000000    0.000000   \n",
       "75%     61.000000    1.000000    2.000000  140.000000  274.500000    0.000000   \n",
       "max     77.000000    1.000000    3.000000  200.000000  564.000000    1.000000   \n",
       "\n",
       "          restecg     thalach       exang     oldpeak       slope          ca  \\\n",
       "count  303.000000  303.000000  303.000000  303.000000  303.000000  303.000000   \n",
       "mean     0.528053  149.646865    0.326733    1.039604    1.399340    0.712871   \n",
       "std      0.525860   22.905161    0.469794    1.161075    0.616226    0.979965   \n",
       "min      0.000000   71.000000    0.000000    0.000000    0.000000    0.000000   \n",
       "25%      0.000000  133.500000    0.000000    0.000000    1.000000    0.000000   \n",
       "50%      1.000000  153.000000    0.000000    0.800000    1.000000    0.000000   \n",
       "75%      1.000000  166.000000    1.000000    1.600000    2.000000    1.000000   \n",
       "max      2.000000  202.000000    1.000000    6.200000    2.000000    4.000000   \n",
       "\n",
       "             thal      output  \n",
       "count  303.000000  303.000000  \n",
       "mean     2.313531    0.544554  \n",
       "std      0.612277    0.498835  \n",
       "min      0.000000    0.000000  \n",
       "25%      2.000000    0.000000  \n",
       "50%      2.000000    1.000000  \n",
       "75%      3.000000    1.000000  \n",
       "max      3.000000    1.000000  "
      ]
     },
     "execution_count": 6,
     "metadata": {},
     "output_type": "execute_result"
    }
   ],
   "source": [
    "data.describe()"
   ]
  },
  {
   "cell_type": "code",
   "execution_count": 7,
   "id": "0048e9b9",
   "metadata": {},
   "outputs": [
    {
     "data": {
      "text/plain": [
       "1    165\n",
       "0    138\n",
       "Name: output, dtype: int64"
      ]
     },
     "execution_count": 7,
     "metadata": {},
     "output_type": "execute_result"
    }
   ],
   "source": [
    "\n",
    "data['output'].value_counts()"
   ]
  },
  {
   "cell_type": "markdown",
   "id": "8c1528a3",
   "metadata": {},
   "source": [
    "# performing visualization of the dataset"
   ]
  },
  {
   "cell_type": "code",
   "execution_count": 8,
   "id": "dbd71e45",
   "metadata": {},
   "outputs": [
    {
     "data": {
      "text/plain": [
       "<AxesSubplot:xlabel='tresbps', ylabel='count'>"
      ]
     },
     "execution_count": 8,
     "metadata": {},
     "output_type": "execute_result"
    },
    {
     "data": {
      "image/png": "[encoded data removed]",
      "text/plain": [
       "<Figure size 1296x576 with 1 Axes>"
      ]
     },
     "metadata": {
      "needs_background": "light"
     },
     "output_type": "display_data"
    }
   ],
   "source": [
    "plt.figure(figsize=(18,8))\n",
    "sns.countplot('tresbps',hue='output',data=data)"
   ]
  },
  {
   "cell_type": "code",
   "execution_count": 9,
   "id": "f114f092",
   "metadata": {},
   "outputs": [
    {
     "data": {
      "text/plain": [
       "<seaborn.axisgrid.FacetGrid at 0x15883d48>"
      ]
     },
     "execution_count": 9,
     "metadata": {},
     "output_type": "execute_result"
    },
    {
     "data": {
      "text/plain": [
       "<Figure size 864x864 with 0 Axes>"
      ]
     },
     "metadata": {},
     "output_type": "display_data"
    },
    {
     "data": {
      "image/png": "[encoded data removed]",
      "text/plain": [
       "<Figure size 402.375x360 with 1 Axes>"
      ]
     },
     "metadata": {
      "needs_background": "light"
     },
     "output_type": "display_data"
    }
   ],
   "source": [
    "plt.figure(figsize=(12,12))\n",
    "sns.catplot(x='sex',y='chol',hue='output',data=data,kind='strip')"
   ]
  },
  {
   "cell_type": "code",
   "execution_count": 10,
   "id": "cabaf7ee",
   "metadata": {},
   "outputs": [
    {
     "data": {
      "text/plain": [
       "<AxesSubplot:xlabel='age'>"
      ]
     },
     "execution_count": 10,
     "metadata": {},
     "output_type": "execute_result"
    },
    {
     "data": {
      "image/png": "[encoded data removed]",
      "text/plain": [
       "<Figure size 432x288 with 1 Axes>"
      ]
     },
     "metadata": {
      "needs_background": "light"
     },
     "output_type": "display_data"
    }
   ],
   "source": [
    "sns.boxplot('age',data=data)"
   ]
  },
  {
   "cell_type": "code",
   "execution_count": 11,
   "id": "75aef78c",
   "metadata": {},
   "outputs": [
    {
     "data": {
      "text/plain": [
       "<AxesSubplot:xlabel='slope'>"
      ]
     },
     "execution_count": 11,
     "metadata": {},
     "output_type": "execute_result"
    },
    {
     "data": {
      "image/png": "[encoded data removed]",
      "text/plain": [
       "<Figure size 432x288 with 1 Axes>"
      ]
     },
     "metadata": {
      "needs_background": "light"
     },
     "output_type": "display_data"
    }
   ],
   "source": [
    "sns.boxplot('slope',data=data)"
   ]
  },
  {
   "cell_type": "code",
   "execution_count": 12,
   "id": "6fa62a23",
   "metadata": {},
   "outputs": [
    {
     "data": {
      "text/plain": [
       "<AxesSubplot:xlabel='chol'>"
      ]
     },
     "execution_count": 12,
     "metadata": {},
     "output_type": "execute_result"
    },
    {
     "data": {
      "image/png": "[encoded data removed]",
      "text/plain": [
       "<Figure size 432x288 with 1 Axes>"
      ]
     },
     "metadata": {
      "needs_background": "light"
     },
     "output_type": "display_data"
    }
   ],
   "source": [
    "sns.boxplot('chol',data=data)"
   ]
  },
  {
   "cell_type": "code",
   "execution_count": 13,
   "id": "86fab924",
   "metadata": {},
   "outputs": [
    {
     "data": {
      "text/plain": [
       "<AxesSubplot:xlabel='ca'>"
      ]
     },
     "execution_count": 13,
     "metadata": {},
     "output_type": "execute_result"
    },
    {
     "data": {
      "image/png": "[encoded data removed]",
      "text/plain": [
       "<Figure size 432x288 with 1 Axes>"
      ]
     },
     "metadata": {
      "needs_background": "light"
     },
     "output_type": "display_data"
    }
   ],
   "source": [
    "sns.boxplot('ca',data=data)"
   ]
  },
  {
   "cell_type": "code",
   "execution_count": 14,
   "id": "27294156",
   "metadata": {},
   "outputs": [
    {
     "data": {
      "text/plain": [
       "<AxesSubplot:xlabel='tresbps'>"
      ]
     },
     "execution_count": 14,
     "metadata": {},
     "output_type": "execute_result"
    },
    {
     "data": {
      "image/png": "[encoded data removed]",
      "text/plain": [
       "<Figure size 432x288 with 1 Axes>"
      ]
     },
     "metadata": {
      "needs_background": "light"
     },
     "output_type": "display_data"
    }
   ],
   "source": [
    "sns.boxplot('tresbps',data=data)"
   ]
  },
  {
   "cell_type": "code",
   "execution_count": null,
   "id": "af890bbb",
   "metadata": {},
   "outputs": [],
   "source": []
  },
  {
   "cell_type": "code",
   "execution_count": 15,
   "id": "3cdc4acd",
   "metadata": {},
   "outputs": [
    {
     "data": {
      "text/plain": [
       "<AxesSubplot:xlabel='restecg'>"
      ]
     },
     "execution_count": 15,
     "metadata": {},
     "output_type": "execute_result"
    },
    {
     "data": {
      "image/png": "[encoded data removed]",
      "text/plain": [
       "<Figure size 432x288 with 1 Axes>"
      ]
     },
     "metadata": {
      "needs_background": "light"
     },
     "output_type": "display_data"
    }
   ],
   "source": [
    "sns.boxplot('restecg',data=data)"
   ]
  },
  {
   "cell_type": "code",
   "execution_count": 16,
   "id": "cdd23cbb",
   "metadata": {},
   "outputs": [
    {
     "data": {
      "text/plain": [
       "<AxesSubplot:xlabel='thalach'>"
      ]
     },
     "execution_count": 16,
     "metadata": {},
     "output_type": "execute_result"
    },
    {
     "data": {
      "image/png": "[encoded data removed]",
      "text/plain": [
       "<Figure size 432x288 with 1 Axes>"
      ]
     },
     "metadata": {
      "needs_background": "light"
     },
     "output_type": "display_data"
    }
   ],
   "source": [
    "sns.boxplot('thalach',data=data)"
   ]
  },
  {
   "cell_type": "code",
   "execution_count": 17,
   "id": "82f1ca3a",
   "metadata": {},
   "outputs": [
    {
     "data": {
      "text/plain": [
       "<AxesSubplot:xlabel='exang'>"
      ]
     },
     "execution_count": 17,
     "metadata": {},
     "output_type": "execute_result"
    },
    {
     "data": {
      "image/png": "[encoded data removed]",
      "text/plain": [
       "<Figure size 432x288 with 1 Axes>"
      ]
     },
     "metadata": {
      "needs_background": "light"
     },
     "output_type": "display_data"
    }
   ],
   "source": [
    "sns.boxplot('exang',data=data)"
   ]
  },
  {
   "cell_type": "code",
   "execution_count": 18,
   "id": "1231a6ac",
   "metadata": {},
   "outputs": [
    {
     "data": {
      "text/plain": [
       "<AxesSubplot:xlabel='oldpeak'>"
      ]
     },
     "execution_count": 18,
     "metadata": {},
     "output_type": "execute_result"
    },
    {
     "data": {
      "image/png": "[encoded data removed]",
      "text/plain": [
       "<Figure size 432x288 with 1 Axes>"
      ]
     },
     "metadata": {
      "needs_background": "light"
     },
     "output_type": "display_data"
    }
   ],
   "source": [
    "sns.boxplot('oldpeak',data=data)"
   ]
  },
  {
   "cell_type": "code",
   "execution_count": 19,
   "id": "9f65b230",
   "metadata": {},
   "outputs": [
    {
     "data": {
      "text/plain": [
       "<AxesSubplot:xlabel='thal'>"
      ]
     },
     "execution_count": 19,
     "metadata": {},
     "output_type": "execute_result"
    },
    {
     "data": {
      "image/png": "[encoded data removed]",
      "text/plain": [
       "<Figure size 432x288 with 1 Axes>"
      ]
     },
     "metadata": {
      "needs_background": "light"
     },
     "output_type": "display_data"
    }
   ],
   "source": [
    "sns.boxplot('thal',data=data)"
   ]
  },
  {
   "cell_type": "code",
   "execution_count": 20,
   "id": "b5bdd7aa",
   "metadata": {},
   "outputs": [
    {
     "data": {
      "text/plain": [
       "<AxesSubplot:xlabel='fbs'>"
      ]
     },
     "execution_count": 20,
     "metadata": {},
     "output_type": "execute_result"
    },
    {
     "data": {
      "image/png": "[encoded data removed]",
      "text/plain": [
       "<Figure size 432x288 with 1 Axes>"
      ]
     },
     "metadata": {
      "needs_background": "light"
     },
     "output_type": "display_data"
    }
   ],
   "source": [
    "sns.boxplot('fbs',data=data)"
   ]
  },
  {
   "cell_type": "code",
   "execution_count": 21,
   "id": "8c60b14c",
   "metadata": {},
   "outputs": [
    {
     "data": {
      "text/plain": [
       "array([[<AxesSubplot:title={'center':'age'}>,\n",
       "        <AxesSubplot:title={'center':'sex'}>,\n",
       "        <AxesSubplot:title={'center':'cp'}>],\n",
       "       [<AxesSubplot:title={'center':'tresbps'}>,\n",
       "        <AxesSubplot:title={'center':'chol'}>,\n",
       "        <AxesSubplot:title={'center':'fbs'}>],\n",
       "       [<AxesSubplot:title={'center':'restecg'}>,\n",
       "        <AxesSubplot:title={'center':'thalach'}>,\n",
       "        <AxesSubplot:title={'center':'exang'}>],\n",
       "       [<AxesSubplot:title={'center':'oldpeak'}>,\n",
       "        <AxesSubplot:title={'center':'slope'}>,\n",
       "        <AxesSubplot:title={'center':'ca'}>],\n",
       "       [<AxesSubplot:title={'center':'thal'}>,\n",
       "        <AxesSubplot:title={'center':'output'}>, <AxesSubplot:>]],\n",
       "      dtype=object)"
      ]
     },
     "execution_count": 21,
     "metadata": {},
     "output_type": "execute_result"
    },
    {
     "data": {
      "image/png": "[encoded data removed]",
      "text/plain": [
       "<Figure size 1080x1080 with 15 Axes>"
      ]
     },
     "metadata": {
      "needs_background": "light"
     },
     "output_type": "display_data"
    }
   ],
   "source": [
    "data.hist(figsize=(15,15),layout=(5,3))"
   ]
  },
  {
   "cell_type": "code",
   "execution_count": 22,
   "id": "152f4a4d",
   "metadata": {},
   "outputs": [
    {
     "data": {
      "text/plain": [
       "<AxesSubplot:xlabel='fbs', ylabel='count'>"
      ]
     },
     "execution_count": 22,
     "metadata": {},
     "output_type": "execute_result"
    },
    {
     "data": {
      "image/png": "[encoded data removed]",
      "text/plain": [
       "<Figure size 432x432 with 1 Axes>"
      ]
     },
     "metadata": {
      "needs_background": "light"
     },
     "output_type": "display_data"
    }
   ],
   "source": [
    "plt.figure(figsize=(6,6))\n",
    "sns.countplot('fbs',data=data,hue='output')"
   ]
  },
  {
   "cell_type": "code",
   "execution_count": 23,
   "id": "7507cf16",
   "metadata": {},
   "outputs": [
    {
     "data": {
      "text/plain": [
       "<AxesSubplot:xlabel='exang', ylabel='thalach'>"
      ]
     },
     "execution_count": 23,
     "metadata": {},
     "output_type": "execute_result"
    },
    {
     "data": {
      "image/png": "[encoded data removed]",
      "text/plain": [
       "<Figure size 432x288 with 1 Axes>"
      ]
     },
     "metadata": {
      "needs_background": "light"
     },
     "output_type": "display_data"
    }
   ],
   "source": [
    "sns.barplot('exang','thalach',hue='output',data=data)"
   ]
  },
  {
   "cell_type": "code",
   "execution_count": 24,
   "id": "37870028",
   "metadata": {},
   "outputs": [
    {
     "data": {
      "text/plain": [
       "<AxesSubplot:xlabel='sex', ylabel='count'>"
      ]
     },
     "execution_count": 24,
     "metadata": {},
     "output_type": "execute_result"
    },
    {
     "data": {
      "image/png": "[encoded data removed]",
      "text/plain": [
       "<Figure size 432x288 with 1 Axes>"
      ]
     },
     "metadata": {
      "needs_background": "light"
     },
     "output_type": "display_data"
    }
   ],
   "source": [
    "sns.countplot(x='sex',hue='output',data=data)"
   ]
  },
  {
   "cell_type": "code",
   "execution_count": 25,
   "id": "6f444b88",
   "metadata": {},
   "outputs": [
    {
     "data": {
      "text/plain": [
       "<AxesSubplot:xlabel='age', ylabel='count'>"
      ]
     },
     "execution_count": 25,
     "metadata": {},
     "output_type": "execute_result"
    },
    {
     "data": {
      "image/png": "[encoded data removed]",
      "text/plain": [
       "<Figure size 864x864 with 1 Axes>"
      ]
     },
     "metadata": {
      "needs_background": "light"
     },
     "output_type": "display_data"
    }
   ],
   "source": [
    "plt.figure(figsize=(12,12))\n",
    "sns.countplot( x='age',hue='output',data=data,palette='husl')\n",
    "\n"
   ]
  },
  {
   "cell_type": "code",
   "execution_count": 26,
   "id": "46ad8b79",
   "metadata": {},
   "outputs": [
    {
     "data": {
      "text/plain": [
       "<AxesSubplot:>"
      ]
     },
     "execution_count": 26,
     "metadata": {},
     "output_type": "execute_result"
    },
    {
     "data": {
      "image/png": "[encoded data removed]",
      "text/plain": [
       "<Figure size 864x864 with 2 Axes>"
      ]
     },
     "metadata": {
      "needs_background": "light"
     },
     "output_type": "display_data"
    }
   ],
   "source": [
    "plt.figure(figsize=(12,12))\n",
    "sns.heatmap(data.corr(),annot=True,cmap='terrain')"
   ]
  },
  {
   "cell_type": "code",
   "execution_count": null,
   "id": "e7123631",
   "metadata": {},
   "outputs": [],
   "source": [
    "\n"
   ]
  },
  {
   "cell_type": "code",
   "execution_count": 27,
   "id": "e0336486",
   "metadata": {},
   "outputs": [
    {
     "data": {
      "text/plain": [
       "<AxesSubplot:xlabel='sex', ylabel='age'>"
      ]
     },
     "execution_count": 27,
     "metadata": {},
     "output_type": "execute_result"
    },
    {
     "data": {
      "image/png": "[encoded data removed]",
      "text/plain": [
       "<Figure size 432x288 with 1 Axes>"
      ]
     },
     "metadata": {
      "needs_background": "light"
     },
     "output_type": "display_data"
    }
   ],
   "source": [
    "sns.stripplot(x='sex',y='age',hue='output',data=data)\n"
   ]
  },
  {
   "cell_type": "code",
   "execution_count": null,
   "id": "a6be939d",
   "metadata": {},
   "outputs": [],
   "source": []
  },
  {
   "cell_type": "markdown",
   "id": "b52e4b6a",
   "metadata": {},
   "source": [
    "# data Splitting "
   ]
  },
  {
   "cell_type": "code",
   "execution_count": 28,
   "id": "7b91b02a",
   "metadata": {},
   "outputs": [],
   "source": [
    "#independent Variables\n",
    "x=data.iloc[:,:-1].values\n",
    "#Dependent Variables\n",
    "y=data.iloc[:,-1].values\n",
    "\n"
   ]
  },
  {
   "cell_type": "code",
   "execution_count": 29,
   "id": "43726636",
   "metadata": {},
   "outputs": [],
   "source": [
    "#performing feature scaling using standardscaler"
   ]
  },
  {
   "cell_type": "code",
   "execution_count": 30,
   "id": "16f29018",
   "metadata": {},
   "outputs": [],
   "source": [
    "x_train,x_test,y_train,y_test=train_test_split(x,y,test_size=0.20,random_state=40)\n",
    "sc=StandardScaler()\n",
    "x_train=sc.fit_transform(x_train)\n",
    "x_test=sc.transform(x_test)"
   ]
  },
  {
   "cell_type": "code",
   "execution_count": 31,
   "id": "8b8a48b9",
   "metadata": {},
   "outputs": [
    {
     "name": "stdout",
     "output_type": "stream",
     "text": [
      "[1 1 1 0 1 1 1 0 0 1 1 1 1 0 1 0 1 1 1 0 1 0 0 1 0 1 0 1 1 1 1 0 0 1 1 1 0\n",
      " 1 1 0 1 1 1 0 1 0 1 0 0 0 1 1 1 0 1 1 0 1 0 0 1]\n",
      "CONFUSSION MATRIX\n",
      " [[18  8]\n",
      " [ 5 30]]\n",
      "Accuracy of ANN: 0.7868852459016393\n"
     ]
    }
   ],
   "source": [
    "mlp=MLPClassifier(hidden_layer_sizes=(10,10,10),max_iter=1000)\n",
    "m=mlp.fit(x_train,y_train)\n",
    "mlp_ac_1=mlp.score(x_test,y_test)\n",
    "y_pred_mlp=mlp.predict(x_test)\n",
    "print(y_pred_mlp)\n",
    "cm=confusion_matrix(y_test,y_pred_mlp)\n",
    "print('CONFUSSION MATRIX\\n',cm)\n",
    "print('Accuracy of ANN:',mlp_ac_1)\n"
   ]
  },
  {
   "cell_type": "code",
   "execution_count": 32,
   "id": "e4a08b13",
   "metadata": {},
   "outputs": [
    {
     "name": "stdout",
     "output_type": "stream",
     "text": [
      "[1 1 1 0 1 1 1 0 0 1 0 1 1 0 0 0 1 1 1 0 1 1 0 1 0 1 0 1 1 1 1 0 0 1 1 1 0\n",
      " 1 0 0 1 1 1 0 1 1 1 0 0 0 1 1 1 0 1 1 0 1 0 0 1]\n",
      "CONFUSSION MATRIX\n",
      " [[21  5]\n",
      " [ 3 32]]\n",
      "Accuracy of KNN: 0.8688524590163934\n"
     ]
    }
   ],
   "source": [
    "nc=KNeighborsClassifier(n_neighbors=5)\n",
    "k=nc.fit(x_train,y_train)\n",
    "nc_ac_1=nc.score(x_test,y_test)\n",
    "y_pred_knn=nc.predict(x_test)\n",
    "print(y_pred_knn)\n",
    "cm=confusion_matrix(y_test,y_pred_knn)\n",
    "print('CONFUSSION MATRIX\\n',cm)\n",
    "print('Accuracy of KNN:',nc_ac_1)"
   ]
  },
  {
   "cell_type": "code",
   "execution_count": 33,
   "id": "419cf3ce",
   "metadata": {},
   "outputs": [
    {
     "name": "stdout",
     "output_type": "stream",
     "text": [
      "[0 1 1 0 1 1 1 0 0 1 0 1 1 0 0 1 1 1 1 0 1 1 1 1 0 1 0 1 1 1 1 0 0 1 1 1 0\n",
      " 0 0 1 1 1 1 0 1 1 1 0 0 0 1 1 1 0 1 1 0 1 0 0 1]\n",
      "CONFUSSION MATRIX\n",
      " [[21  5]\n",
      " [ 2 33]]\n",
      "Accuracy of SVM: 0.8852459016393442\n"
     ]
    }
   ],
   "source": [
    "svm=SVC(kernel='linear')\n",
    "s=svm.fit(x_train,y_train)\n",
    "svm_ac_1=svm.score(x_test,y_test)\n",
    "y_pred_svm=svm.predict(x_test)\n",
    "print(y_pred_svm)\n",
    "cm=confusion_matrix(y_test,y_pred_svm)\n",
    "print('CONFUSSION MATRIX\\n',cm)\n",
    "print('Accuracy of SVM:',svm_ac_1)\n"
   ]
  },
  {
   "cell_type": "code",
   "execution_count": 34,
   "id": "453ccc66",
   "metadata": {},
   "outputs": [
    {
     "name": "stdout",
     "output_type": "stream",
     "text": [
      "[1 1 1 0 1 1 1 0 0 1 0 1 1 0 0 1 1 1 1 0 1 1 1 1 0 1 0 1 1 1 1 0 0 1 1 1 0\n",
      " 0 0 1 1 1 1 0 1 1 1 0 0 0 1 1 1 0 1 1 0 1 0 0 1]\n",
      "CONFUSSION MATRIX\n",
      " [[21  5]\n",
      " [ 1 34]]\n",
      "Accuracy of LR: 0.9016393442622951\n"
     ]
    }
   ],
   "source": [
    "lr=LogisticRegression(C=1)\n",
    "l=lr.fit(x_train,y_train)\n",
    "lr_ac_1=lr.score(x_test,y_test)\n",
    "y_pred_lr=lr.predict(x_test)\n",
    "print(y_pred_lr)\n",
    "cm=confusion_matrix(y_test,y_pred_lr)\n",
    "print('CONFUSSION MATRIX\\n',cm)\n",
    "print('Accuracy of LR:',lr_ac_1)"
   ]
  },
  {
   "cell_type": "code",
   "execution_count": 35,
   "id": "3c7bc091",
   "metadata": {},
   "outputs": [
    {
     "name": "stdout",
     "output_type": "stream",
     "text": [
      "CONFUSSION MATRIX\n",
      " [[22  4]\n",
      " [ 4 31]]\n",
      "Accuracy of SGD: 0.8688524590163934\n"
     ]
    }
   ],
   "source": [
    "sgd=SGDClassifier()\n",
    "sg=sgd.fit(x_train,y_train)\n",
    "sgd_ac_1=sgd.score(x_test,y_test)\n",
    "y_pred_sgd=sgd.predict(x_test)\n",
    "cm=confusion_matrix(y_test,y_pred_sgd)\n",
    "print('CONFUSSION MATRIX\\n',cm)\n",
    "print('Accuracy of SGD:',sgd_ac_1)"
   ]
  },
  {
   "cell_type": "code",
   "execution_count": 36,
   "id": "9f637dcc",
   "metadata": {},
   "outputs": [
    {
     "name": "stdout",
     "output_type": "stream",
     "text": [
      "[1 1 1 0 0 1 0 0 0 1 0 1 1 0 0 0 0 1 1 0 1 1 0 1 0 1 0 1 1 1 1 0 0 1 1 1 0\n",
      " 0 0 1 1 1 1 0 1 1 1 0 0 0 1 1 1 0 1 1 0 1 0 0 1]\n",
      "CONFUSSION MATRIX\n",
      " [[22  4]\n",
      " [ 5 30]]\n",
      "Accuracy of NB: 0.8524590163934426\n"
     ]
    }
   ],
   "source": [
    "nb=GaussianNB()\n",
    "n=nb.fit(x_train,y_train)\n",
    "nb_ac_1=nb.score(x_test,y_test)\n",
    "y_pred_nb=nb.predict(x_test)\n",
    "print(y_pred_nb)\n",
    "cm=confusion_matrix(y_test,y_pred_nb)\n",
    "print('CONFUSSION MATRIX\\n',cm)\n",
    "print('Accuracy of NB:',nb_ac_1)"
   ]
  },
  {
   "cell_type": "code",
   "execution_count": 37,
   "id": "addaaaf5",
   "metadata": {},
   "outputs": [
    {
     "name": "stdout",
     "output_type": "stream",
     "text": [
      "[0 1 0 0 1 0 0 0 0 1 1 1 0 0 0 1 1 1 0 0 1 0 1 1 0 1 0 1 1 1 1 0 0 0 1 1 0\n",
      " 0 0 1 1 1 1 0 1 0 1 0 0 0 0 1 0 0 1 0 0 1 0 0 1]\n",
      "CONFUSSION MATRIX\n",
      " [[21  5]\n",
      " [12 23]]\n",
      "Accuracy of DT: 0.7213114754098361\n"
     ]
    }
   ],
   "source": [
    "dt=DecisionTreeClassifier()\n",
    "d=dt.fit(x_train,y_train)\n",
    "dt_ac_1=dt.score(x_test,y_test)\n",
    "y_pred_dt=dt.predict(x_test)\n",
    "print(y_pred_dt)\n",
    "cm=confusion_matrix(y_test,y_pred_dt)\n",
    "print('CONFUSSION MATRIX\\n',cm)\n",
    "print('Accuracy of DT:',dt_ac_1)"
   ]
  },
  {
   "cell_type": "code",
   "execution_count": 38,
   "id": "9b764177",
   "metadata": {},
   "outputs": [
    {
     "name": "stdout",
     "output_type": "stream",
     "text": [
      "CONFUSSION MATRIX\n",
      " [[21  5]\n",
      " [ 3 32]]\n",
      "Accuracy of RF: 0.8688524590163934\n"
     ]
    }
   ],
   "source": [
    "rf=RandomForestClassifier(100)\n",
    "r=rf.fit(x_train,y_train)\n",
    "rf_ac_1=rf.score(x_test,y_test)\n",
    "y_pred_rf=rf.predict(x_test)\n",
    "cm=confusion_matrix(y_test,y_pred_rf)\n",
    "print('CONFUSSION MATRIX\\n',cm)\n",
    "print('Accuracy of RF:',rf_ac_1)"
   ]
  },
  {
   "cell_type": "code",
   "execution_count": 134,
   "id": "7383544b",
   "metadata": {},
   "outputs": [
    {
     "name": "stdout",
     "output_type": "stream",
     "text": [
      "-----------------ACCURACY OF MODELS----------------\n",
      "Accurracy using ANN Model: 0.787\n",
      "Accurracy using KNN Model: 0.869\n",
      "Accurracy using SVM Model: 0.885\n",
      "Accurracy using LOGISTIC REGRESSION Model: 0.902\n",
      "Accurracy using SGD CLASSIFIER  Model: 0.869\n",
      "Accurracy using N_BAYES Model: 0.852\n",
      "Accurracy using D TREE Model: 0.721\n",
      "Accurracy using R FOREST Model: 0.869\n"
     ]
    }
   ],
   "source": [
    "print('-----------------ACCURACY OF MODELS----------------')\n",
    "print('Accurracy using ANN Model:',round(mlp_ac_1,3))\n",
    "print('Accurracy using KNN Model:',round(nc_ac_1,3))\n",
    "print('Accurracy using SVM Model:',round(svm_ac_1,3))\n",
    "print('Accurracy using LOGISTIC REGRESSION Model:',round(lr_ac_1,3))\n",
    "print('Accurracy using SGD CLASSIFIER  Model:',round(sgd_ac_1,3))\n",
    "print('Accurracy using N_BAYES Model:',round(nb_ac_1,3))\n",
    "print('Accurracy using D TREE Model:',round(dt_ac_1,3))\n",
    "print('Accurracy using R FOREST Model:',round (rf_ac_1,3))"
   ]
  },
  {
   "cell_type": "markdown",
   "id": "4915b9be",
   "metadata": {},
   "source": [
    "# improving Accuracy Using Hyperparameters on some models"
   ]
  },
  {
   "cell_type": "code",
   "execution_count": 40,
   "id": "89f93348",
   "metadata": {},
   "outputs": [],
   "source": [
    "#estimator().get_params().keys()"
   ]
  },
  {
   "cell_type": "code",
   "execution_count": 41,
   "id": "acd04aa6",
   "metadata": {},
   "outputs": [
    {
     "name": "stdout",
     "output_type": "stream",
     "text": [
      "Accuracy of Artificial NeuralNetwork: 0.8360655737704918\n"
     ]
    }
   ],
   "source": [
    "mlp_p={\n",
    "    'hidden_layer_sizes':[(10,10,10),(20,20,20),(50,50,50)],\n",
    "    'activation':['tanh','relu'],\n",
    "    'solver':['sgd','adam'],\n",
    "    'learning_rate':['constant','adaptive']\n",
    "}\n",
    "\n",
    "grid_mlp=GridSearchCV(MLPClassifier(max_iter=1000),mlp_p,cv=10,n_jobs=-1)\n",
    "grid_mlp.fit(x_train,y_train)\n",
    "print('Accuracy of Artificial NeuralNetwork:',str(grid_mlp.score(x_test,y_test)))"
   ]
  },
  {
   "cell_type": "code",
   "execution_count": null,
   "id": "e102cd39",
   "metadata": {},
   "outputs": [],
   "source": []
  },
  {
   "cell_type": "code",
   "execution_count": 42,
   "id": "c680d159",
   "metadata": {},
   "outputs": [
    {
     "name": "stdout",
     "output_type": "stream",
     "text": [
      "Accuracy of KNN: 0.8688524590163934\n"
     ]
    }
   ],
   "source": [
    "knn_p={\n",
    "    'leaf_size':[x for x in range(1,50)],\n",
    "    'n_neighbors':[x for x in range(1,30)],\n",
    "     'p':[1,2]\n",
    "}\n",
    "grid_knn=GridSearchCV(KNeighborsClassifier(),knn_p,cv=10,n_jobs=-1)\n",
    "grid_knn.fit(x_train,y_train)\n",
    "print('Accuracy of KNN:',str(grid_knn.score(x_test,y_test)))\n"
   ]
  },
  {
   "cell_type": "code",
   "execution_count": 43,
   "id": "1f976f8b",
   "metadata": {},
   "outputs": [
    {
     "name": "stdout",
     "output_type": "stream",
     "text": [
      "Accuracy of SVM: 0.8852459016393442\n"
     ]
    }
   ],
   "source": [
    "svm_p={\n",
    "    'C':[0.001,0.01,0.1,1,10,100,1000],\n",
    "    'gamma':[0.001,0.01,0.1,1,10,100,1000],\n",
    "    'kernel':['linear','poly','rbf','sigmoid']\n",
    "    \n",
    "}\n",
    "grid_svm=GridSearchCV(SVC(random_state=0),svm_p,cv=10,n_jobs=-1)\n",
    "grid_svm.fit(x_train,y_train)\n",
    "print('Accuracy of SVM:',str(grid_svm.score(x_test,y_test)))\n",
    "\n"
   ]
  },
  {
   "cell_type": "code",
   "execution_count": 44,
   "id": "8b599216",
   "metadata": {},
   "outputs": [
    {
     "name": "stdout",
     "output_type": "stream",
     "text": [
      "Accuracy of Decision Tree Model: 0.8032786885245902\n"
     ]
    }
   ],
   "source": [
    "dt_p={\n",
    "  'splitter':['best','random'],\n",
    "    'max_depth':[1,3,5,6,10],\n",
    "    'min_samples_leaf':[1,2,3,6,8,9,10],\n",
    "    'min_weight_fraction_leaf':[0.1,0.2,0.3,0.6,0.9],\n",
    "    'max_features':['auto','log2','sqrt',None]\n",
    "}\n",
    "grid_dt=GridSearchCV(DecisionTreeClassifier(),dt_p,cv=10,n_jobs=-1)\n",
    "grid_dt.fit(x_train,y_train)\n",
    "print('Accuracy of Decision Tree Model:',str(grid_dt.score(x_test,y_test)))\n",
    "\n"
   ]
  },
  {
   "cell_type": "code",
   "execution_count": null,
   "id": "8ec1f0be",
   "metadata": {},
   "outputs": [],
   "source": []
  },
  {
   "cell_type": "code",
   "execution_count": null,
   "id": "7192ccfc",
   "metadata": {},
   "outputs": [],
   "source": []
  },
  {
   "cell_type": "code",
   "execution_count": 55,
   "id": "cfaf259e",
   "metadata": {},
   "outputs": [
    {
     "name": "stdout",
     "output_type": "stream",
     "text": [
      "Accuracy of Artificial NeuralNetwork: 0.8360655737704918\n",
      "Accuracy of KNN: 0.8688524590163934\n",
      "Accuracy of SVM: 0.8852459016393442\n",
      "Accuracy of Decision Tree Model: 0.8032786885245902\n",
      "Accuracy of LR: 0.9016393442622951\n",
      "Accuracy of SGD: 0.8688524590163934\n",
      "Accuracy of NB: 0.8524590163934426\n",
      "Accuracy of RF: 0.8688524590163934\n"
     ]
    }
   ],
   "source": [
    "print('Accuracy of Artificial NeuralNetwork:',str(grid_mlp.score(x_test,y_test)))\n",
    "print('Accuracy of KNN:',str(grid_knn.score(x_test,y_test)))\n",
    "print('Accuracy of SVM:',str(grid_svm.score(x_test,y_test)))\n",
    "print('Accuracy of Decision Tree Model:',str(grid_dt.score(x_test,y_test)))\n",
    "print('Accuracy of LR:',str(lr.score(x_test,y_test)))\n",
    "print('Accuracy of SGD:',str(sgd.score(x_test,y_test)))\n",
    "print('Accuracy of NB:',str(nb.score(x_test,y_test)))\n",
    "print('Accuracy of RF:',str(rf.score(x_test,y_test)))\n"
   ]
  },
  {
   "cell_type": "code",
   "execution_count": null,
   "id": "0fcb2364",
   "metadata": {},
   "outputs": [],
   "source": []
  },
  {
   "cell_type": "markdown",
   "id": "69b99309",
   "metadata": {},
   "source": [
    "#cross validating our data to check for best model for our unseen data to be used in our system."
   ]
  },
  {
   "cell_type": "code",
   "execution_count": null,
   "id": "3e8aff7e",
   "metadata": {},
   "outputs": [],
   "source": []
  },
  {
   "cell_type": "code",
   "execution_count": 56,
   "id": "80a1963c",
   "metadata": {},
   "outputs": [
    {
     "name": "stdout",
     "output_type": "stream",
     "text": [
      "accuracy using ROC SCORE FOR ANN: 0.8274725274725273\n",
      "accuracy using ROC SCORE FOR KNN: 0.8609890109890109\n",
      "accuracy using ROC SCORE FOR SVM: 0.8703296703296703\n",
      "accuracy using ROC SCORE FOR LR: 0.8895604395604396\n",
      "accuracy using ROC SCORE FOR SGD: 0.8659340659340659\n",
      "accuracy using ROC SCORE FOR NB: 0.8516483516483516\n",
      "accuracy using ROC SCORE FOR DT: 0.798901098901099\n",
      "accuracy using ROC SCORE FOR RF: 0.8274725274725273\n"
     ]
    }
   ],
   "source": [
    "y_pred_mlp=grid_mlp.predict(x_test)\n",
    "y_pred_mknn=grid_knn.predict(x_test)\n",
    "y_pred_svm=grid_svm.predict(x_test)\n",
    "y_pred_dt=grid_dt.predict(x_test)\n",
    "print('accuracy using ROC SCORE FOR ANN:',roc_auc_score(y_test,y_pred_mlp))\n",
    "print('accuracy using ROC SCORE FOR KNN:',roc_auc_score(y_test,y_pred_knn))\n",
    "print('accuracy using ROC SCORE FOR SVM:',roc_auc_score(y_test,y_pred_svm))\n",
    "print('accuracy using ROC SCORE FOR LR:',roc_auc_score(y_test,y_pred_lr))\n",
    "print('accuracy using ROC SCORE FOR SGD:',roc_auc_score(y_test,y_pred_sgd))\n",
    "print('accuracy using ROC SCORE FOR NB:',roc_auc_score(y_test,y_pred_nb))\n",
    "print('accuracy using ROC SCORE FOR DT:',roc_auc_score(y_test,y_pred_dt))\n",
    "print('accuracy using ROC SCORE FOR RF:',roc_auc_score(y_test,y_pred_rf))"
   ]
  },
  {
   "cell_type": "code",
   "execution_count": null,
   "id": "e63183e4",
   "metadata": {},
   "outputs": [],
   "source": []
  },
  {
   "cell_type": "code",
   "execution_count": 57,
   "id": "54201ffa",
   "metadata": {},
   "outputs": [
    {
     "name": "stdout",
     "output_type": "stream",
     "text": [
      "classification report for ANN\n",
      "               precision    recall  f1-score   support\n",
      "\n",
      "           0       0.83      0.77      0.80        26\n",
      "           1       0.84      0.89      0.86        35\n",
      "\n",
      "    accuracy                           0.84        61\n",
      "   macro avg       0.84      0.83      0.83        61\n",
      "weighted avg       0.84      0.84      0.84        61\n",
      "\n",
      "classification report for KNN\n",
      "               precision    recall  f1-score   support\n",
      "\n",
      "           0       0.88      0.81      0.84        26\n",
      "           1       0.86      0.91      0.89        35\n",
      "\n",
      "    accuracy                           0.87        61\n",
      "   macro avg       0.87      0.86      0.86        61\n",
      "weighted avg       0.87      0.87      0.87        61\n",
      "\n",
      "classification report for SVM\n",
      "               precision    recall  f1-score   support\n",
      "\n",
      "           0       0.95      0.77      0.85        26\n",
      "           1       0.85      0.97      0.91        35\n",
      "\n",
      "    accuracy                           0.89        61\n",
      "   macro avg       0.90      0.87      0.88        61\n",
      "weighted avg       0.89      0.89      0.88        61\n",
      "\n",
      "classification report for LR\n",
      "               precision    recall  f1-score   support\n",
      "\n",
      "           0       0.95      0.81      0.88        26\n",
      "           1       0.87      0.97      0.92        35\n",
      "\n",
      "    accuracy                           0.90        61\n",
      "   macro avg       0.91      0.89      0.90        61\n",
      "weighted avg       0.91      0.90      0.90        61\n",
      "\n",
      "classification report for SGD\n",
      "               precision    recall  f1-score   support\n",
      "\n",
      "           0       0.85      0.85      0.85        26\n",
      "           1       0.89      0.89      0.89        35\n",
      "\n",
      "    accuracy                           0.87        61\n",
      "   macro avg       0.87      0.87      0.87        61\n",
      "weighted avg       0.87      0.87      0.87        61\n",
      "\n",
      "classification report for NB\n",
      "               precision    recall  f1-score   support\n",
      "\n",
      "           0       0.81      0.85      0.83        26\n",
      "           1       0.88      0.86      0.87        35\n",
      "\n",
      "    accuracy                           0.85        61\n",
      "   macro avg       0.85      0.85      0.85        61\n",
      "weighted avg       0.85      0.85      0.85        61\n",
      "\n",
      "classification report for DT\n",
      "               precision    recall  f1-score   support\n",
      "\n",
      "           0       0.77      0.77      0.77        26\n",
      "           1       0.83      0.83      0.83        35\n",
      "\n",
      "    accuracy                           0.80        61\n",
      "   macro avg       0.80      0.80      0.80        61\n",
      "weighted avg       0.80      0.80      0.80        61\n",
      "\n",
      "classification report for RF\n",
      "               precision    recall  f1-score   support\n",
      "\n",
      "           0       0.83      0.77      0.80        26\n",
      "           1       0.84      0.89      0.86        35\n",
      "\n",
      "    accuracy                           0.84        61\n",
      "   macro avg       0.84      0.83      0.83        61\n",
      "weighted avg       0.84      0.84      0.84        61\n",
      "\n"
     ]
    }
   ],
   "source": [
    "print('classification report for ANN\\n',classification_report(y_test,y_pred_mlp))\n",
    "print('classification report for KNN\\n',classification_report(y_test,y_pred_knn))\n",
    "print('classification report for SVM\\n',classification_report(y_test,y_pred_svm))\n",
    "print('classification report for LR\\n',classification_report(y_test,y_pred_lr))\n",
    "print('classification report for SGD\\n',classification_report(y_test,y_pred_sgd))\n",
    "print('classification report for NB\\n',classification_report(y_test,y_pred_nb))\n",
    "print('classification report for DT\\n',classification_report(y_test,y_pred_dt))\n",
    "print('classification report for RF\\n',classification_report(y_test,y_pred_rf))"
   ]
  },
  {
   "cell_type": "code",
   "execution_count": 133,
   "id": "d2dcfa2d",
   "metadata": {},
   "outputs": [
    {
     "name": "stdout",
     "output_type": "stream",
     "text": [
      "LogisticRegression : 0.818\n",
      "MLPClassifier : 0.765\n",
      "SVC : 0.843\n",
      "GaussianNB : 0.806\n",
      "SGDClassifier : 0.802\n",
      "DecisionTreeClassifier : 0.711\n",
      "RandomForestClassifier : 0.806\n",
      "KNeighborsClassifier : 0.835\n"
     ]
    }
   ],
   "source": [
    "models=[lr,mlp,grid_svm.best_estimator_,nb,sgd,grid_dt.best_estimator_,rf,grid_knn.best_estimator_]\n",
    "for model in models:\n",
    "    kFold=StratifiedKFold(n_splits=3)\n",
    "    cvs=cross_val_score(model,x_train,y_train,cv=kFold,scoring='accuracy')\n",
    "    model=str(model).split('(')\n",
    "    model=model[0]\n",
    "    print(model,':',round(cvs.mean(),3))"
   ]
  },
  {
   "cell_type": "code",
   "execution_count": null,
   "id": "b8f693b6",
   "metadata": {},
   "outputs": [],
   "source": []
  },
  {
   "cell_type": "code",
   "execution_count": null,
   "id": "b6c8926f",
   "metadata": {},
   "outputs": [],
   "source": []
  },
  {
   "cell_type": "code",
   "execution_count": null,
   "id": "ee860d9e",
   "metadata": {},
   "outputs": [],
   "source": []
  },
  {
   "cell_type": "code",
   "execution_count": null,
   "id": "b4f51170",
   "metadata": {},
   "outputs": [],
   "source": []
  },
  {
   "cell_type": "code",
   "execution_count": null,
   "id": "c67bf666",
   "metadata": {},
   "outputs": [],
   "source": []
  },
  {
   "cell_type": "code",
   "execution_count": null,
   "id": "4ca704bf",
   "metadata": {},
   "outputs": [],
   "source": []
  }
 ],
 "metadata": {
  "kernelspec": {
   "display_name": "Python 3 (ipykernel)",
   "language": "python",
   "name": "python3"
  },
  "language_info": {
   "codemirror_mode": {
    "name": "ipython",
    "version": 3
   },
   "file_extension": ".py",
   "mimetype": "text/x-python",
   "name": "python",
   "nbconvert_exporter": "python",
   "pygments_lexer": "ipython3",
   "version": "3.9.5"
  }
 },
 "nbformat": 4,
 "nbformat_minor": 5
}
